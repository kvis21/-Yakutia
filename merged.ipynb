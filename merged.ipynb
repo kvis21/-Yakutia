{
  "nbformat": 4,
  "nbformat_minor": 0,
  "metadata": {
    "colab": {
      "provenance": []
    },
    "kernelspec": {
      "name": "python3",
      "display_name": "Python 3"
    },
    "language_info": {
      "name": "python"
    }
  },
  "cells": [
    {
      "cell_type": "code",
      "execution_count": 1,
      "metadata": {
        "id": "E6-qARsQ8SoE"
      },
      "outputs": [],
      "source": [
        "import pandas as pd\n",
        "import numpy as np\n",
        "import random, os\n",
        "import matplotlib.pyplot as plt"
      ]
    },
    {
      "cell_type": "code",
      "source": [
        "pd.set_option('display.max_columns', None)"
      ],
      "metadata": {
        "id": "ng1YMxo1pXUf"
      },
      "execution_count": 2,
      "outputs": []
    },
    {
      "cell_type": "code",
      "source": [
        "targets=pd.read_csv('/content/train.csv')\n",
        "calls=pd.read_csv('/content/Calls.csv')\n",
        "ConTime=pd.read_csv('/content/ConnectionTime.csv', low_memory=False)\n",
        "Education=pd.read_csv('/content/Education.csv')\n",
        "SKUD=pd.read_csv('/content/SKUD.csv')\n",
        "Tasks=pd.read_csv('/content/Tasks.csv', low_memory=False)\n",
        "TimenNetwork=pd.read_csv('/content/TimenNetwork.csv')\n",
        "WorkDay=pd.read_csv('/content/WorkingDay.csv')"
      ],
      "metadata": {
        "id": "WcKaXDlxBC4j"
      },
      "execution_count": 3,
      "outputs": []
    },
    {
      "cell_type": "code",
      "source": [
        "merged=calls"
      ],
      "metadata": {
        "id": "UcWUrgbMNbIM"
      },
      "execution_count": 4,
      "outputs": []
    },
    {
      "cell_type": "code",
      "source": [],
      "metadata": {
        "id": "KvfMqvp46_D1"
      },
      "execution_count": 4,
      "outputs": []
    },
    {
      "cell_type": "code",
      "source": [],
      "metadata": {
        "id": "DeONLY2U9d1k"
      },
      "execution_count": 4,
      "outputs": []
    },
    {
      "cell_type": "code",
      "source": [],
      "metadata": {
        "id": "8ze6fHp_9r8M"
      },
      "execution_count": 4,
      "outputs": []
    },
    {
      "cell_type": "code",
      "source": [],
      "metadata": {
        "id": "0p7rX8-2r4TB"
      },
      "execution_count": 4,
      "outputs": []
    },
    {
      "cell_type": "code",
      "source": [
        "SKUD=SKUD.rename(columns={'Дата': 'Date'})\n",
        "TimenNetwork=TimenNetwork.rename(columns={'startTime':'Date'})\n",
        "ConTime=ConTime.rename(columns={'dateNum':'Date'})\n",
        "WorkDay=WorkDay.rename(columns={'startTime':'Date'})\n",
        "merged=merged.rename(columns={'Вид учета времени':'Вых/Будни'})"
      ],
      "metadata": {
        "id": "XUNDWt2FNp8d"
      },
      "execution_count": 5,
      "outputs": []
    },
    {
      "cell_type": "code",
      "source": [],
      "metadata": {
        "id": "qrfrf2HCrPXx"
      },
      "execution_count": 5,
      "outputs": []
    },
    {
      "cell_type": "code",
      "source": [],
      "metadata": {
        "id": "z1uhcB0rqDNW"
      },
      "execution_count": 6,
      "outputs": []
    },
    {
      "cell_type": "code",
      "source": [
        "date=[SKUD, TimenNetwork, ConTime, WorkDay]"
      ],
      "metadata": {
        "id": "YwhUeV4autqB"
      },
      "execution_count": 7,
      "outputs": []
    },
    {
      "cell_type": "code",
      "source": [],
      "metadata": {
        "id": "UffTAM0qrCsY"
      },
      "execution_count": 7,
      "outputs": []
    },
    {
      "cell_type": "code",
      "source": [
        "for i in date:\n",
        "  merged=merged.merge(i, on=['id', 'Date', 'Вых/Будни'], how='left')"
      ],
      "metadata": {
        "id": "1gxImXagSLCI"
      },
      "execution_count": 8,
      "outputs": []
    },
    {
      "cell_type": "code",
      "source": [],
      "metadata": {
        "id": "cBJzFw9PNm7q"
      },
      "execution_count": 8,
      "outputs": []
    },
    {
      "cell_type": "code",
      "source": [
        "merged.memory_usage().sum()/1024/1024"
      ],
      "metadata": {
        "colab": {
          "base_uri": "https://localhost:8080/"
        },
        "id": "lAPITGkINlGC",
        "outputId": "0ff5933b-b806-4f09-de68-402b8e0b8bcb"
      },
      "execution_count": 9,
      "outputs": [
        {
          "output_type": "execute_result",
          "data": {
            "text/plain": [
              "1123.883804321289"
            ]
          },
          "metadata": {},
          "execution_count": 9
        }
      ]
    },
    {
      "cell_type": "code",
      "source": [],
      "metadata": {
        "id": "Vcq9Y72gOGpd"
      },
      "execution_count": 9,
      "outputs": []
    },
    {
      "cell_type": "code",
      "source": [
        "nans=[]\n",
        "for i in merged.columns:\n",
        "    nans.append(merged[i].isna().sum())\n",
        "    print(f'{i}; {merged[i].isna().sum()/len(merged)*100}%')\n",
        "    if merged[i].isna().sum()/len(merged)*100>4:\n",
        "        nans.pop(-1)\n",
        "        merged=merged.drop(i, axis=1)"
      ],
      "metadata": {
        "id": "O_ZoGythRK5K",
        "colab": {
          "base_uri": "https://localhost:8080/"
        },
        "outputId": "4253b836-d803-4bed-9cf2-c7b532c4f2de"
      },
      "execution_count": 10,
      "outputs": [
        {
          "output_type": "stream",
          "name": "stdout",
          "text": [
            "Date; 0.0%\n",
            "CallTime; 0.0%\n",
            "NumberOfCalls; 0.0%\n",
            "Вых/Будни; 0.19620432593650422%\n",
            "InOut; 0.0%\n",
            "id; 0.0%\n",
            "Приход.1; 99.54009613134907%\n",
            "Уход.1; 99.54009613134907%\n",
            "Длительность общая; 99.54009613134907%\n",
            "Длительность раб.дня без обеда; 99.54009613134907%\n",
            "monitor_Time; 3.065789327733195%\n",
            "maxLogOff; 3.5341671802219023%\n",
            "Нормативное время начала раб.дня; 3.5341671802219023%\n",
            "Фактич. время начала раб.дня; 3.5341671802219023%\n",
            "Время опоздания; 45.78428977568062%\n",
            "Признак опоздания; 56.88447341735776%\n",
            "activeTime; 2.656729362108936%\n",
            "monitorTime; 2.656729362108936%\n"
          ]
        }
      ]
    },
    {
      "cell_type": "code",
      "source": [
        "merged.memory_usage().sum()/1024/1024"
      ],
      "metadata": {
        "colab": {
          "base_uri": "https://localhost:8080/"
        },
        "id": "p0GDBKYnwO-W",
        "outputId": "58ded29f-7223-41e1-e364-18fef24f788b"
      },
      "execution_count": 11,
      "outputs": [
        {
          "output_type": "execute_result",
          "data": {
            "text/plain": [
              "768.9731292724609"
            ]
          },
          "metadata": {},
          "execution_count": 11
        }
      ]
    },
    {
      "cell_type": "code",
      "source": [],
      "metadata": {
        "id": "h20q6M0EzAwm"
      },
      "execution_count": 11,
      "outputs": []
    },
    {
      "cell_type": "code",
      "source": [],
      "metadata": {
        "id": "PeAsfK0rOUdJ"
      },
      "execution_count": null,
      "outputs": []
    },
    {
      "cell_type": "code",
      "source": [
        "merged[merged.dtypes[merged.dtypes=='object'].index]=merged[merged.dtypes[merged.dtypes=='object'].index].astype('category')"
      ],
      "metadata": {
        "id": "xEdoNcSIOkYR"
      },
      "execution_count": 13,
      "outputs": []
    },
    {
      "cell_type": "code",
      "source": [
        "merged.memory_usage().sum()/1024/1024"
      ],
      "metadata": {
        "colab": {
          "base_uri": "https://localhost:8080/"
        },
        "id": "nC-cqbLfwQ4F",
        "outputId": "018d5fd3-32b6-491a-bb8f-de49afbd5dc5"
      },
      "execution_count": 14,
      "outputs": [
        {
          "output_type": "execute_result",
          "data": {
            "text/plain": [
              "427.610200881958"
            ]
          },
          "metadata": {},
          "execution_count": 14
        }
      ]
    },
    {
      "cell_type": "code",
      "source": [
        "merged.to_csv('merged.csv', index=False)"
      ],
      "metadata": {
        "id": "wHVxjiCjBl3E"
      },
      "execution_count": 15,
      "outputs": []
    },
    {
      "cell_type": "code",
      "source": [],
      "metadata": {
        "id": "lq9fGVroMJLJ"
      },
      "execution_count": 15,
      "outputs": []
    }
  ]
}